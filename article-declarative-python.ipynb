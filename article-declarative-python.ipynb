{
 "cells": [
  {
   "cell_type": "markdown",
   "metadata": {
    "slideshow": {
     "slide_type": "slide"
    }
   },
   "source": [
    "# Declarative Programming using Python"
   ]
  },
  {
   "cell_type": "markdown",
   "metadata": {
    "slideshow": {
     "slide_type": "fragment"
    }
   },
   "source": [
    "A declarative programming approach involves defining structures and describing transformations on those structures in an equational way. Using a declarative approach to implement a solution can have a number of benefits:\n",
    "\n",
    "* the implementation is likely to be concise;\n",
    "* it may be easier to quickly explore trade-offs between optimality and performance; and\n",
    "* it may be easier to to store and later restart partial solutions.\n",
    "\n",
    "In this article we will present a number of declarative Python solutions to a well-known optimization problem and illustrate how some of the above benefits may be realized. "
   ]
  },
  {
   "cell_type": "markdown",
   "metadata": {
    "slideshow": {
     "slide_type": "slide"
    }
   },
   "source": [
    "## Dependencies"
   ]
  },
  {
   "cell_type": "code",
   "execution_count": 1,
   "metadata": {
    "slideshow": {
     "slide_type": "skip"
    }
   },
   "outputs": [],
   "source": [
    "# Presentation dependencies.\n",
    "%matplotlib inline\n",
    "%config InlineBackend.figure_format='retina'\n",
    "import matplotlib as mp\n",
    "import matplotlib.pyplot as plt\n",
    "from importlib import reload\n",
    "from IPython.display import Image\n",
    "from IPython.display import display_html\n",
    "from IPython.display import display\n",
    "from IPython.display import Math\n",
    "from IPython.display import Latex\n",
    "from IPython.display import HTML\n",
    "\n",
    "# Content dependencies (also reproduced inline).\n",
    "from random import randint\n",
    "from itertools import permutations\n",
    "from functools import reduce\n",
    "from tqdm import tqdm"
   ]
  },
  {
   "cell_type": "markdown",
   "metadata": {
    "slideshow": {
     "slide_type": "slide"
    }
   },
   "source": [
    "## Review of Python Features"
   ]
  },
  {
   "cell_type": "markdown",
   "metadata": {
    "slideshow": {
     "slide_type": "fragment"
    }
   },
   "source": [
    "We first review a number of relevant Python language constructs, data structures, and libraries."
   ]
  },
  {
   "cell_type": "markdown",
   "metadata": {
    "slideshow": {
     "slide_type": "fragment"
    }
   },
   "source": [
    "Python's comprehension notation makes it possible to define a tuple, set, or list. The `min` operator can be used to find the minimum value, and the `key` parameter can be used to obtain the minimum value with respect to some metric function."
   ]
  },
  {
   "cell_type": "code",
   "execution_count": 2,
   "metadata": {
    "slideshow": {
     "slide_type": "fragment"
    }
   },
   "outputs": [
    {
     "data": {
      "text/plain": [
       "[1, 2, 3]"
      ]
     },
     "execution_count": 2,
     "metadata": {},
     "output_type": "execute_result"
    }
   ],
   "source": [
    "[x for x in [1,2,3]] # A list of integers."
   ]
  },
  {
   "cell_type": "code",
   "execution_count": 3,
   "metadata": {
    "slideshow": {
     "slide_type": "fragment"
    }
   },
   "outputs": [
    {
     "data": {
      "text/plain": [
       "'f'"
      ]
     },
     "execution_count": 3,
     "metadata": {},
     "output_type": "execute_result"
    }
   ],
   "source": [
    "min(['abc','de','f'], key=len) # The shortest string."
   ]
  },
  {
   "cell_type": "code",
   "execution_count": 112,
   "metadata": {
    "slideshow": {
     "slide_type": "fragment"
    }
   },
   "outputs": [
    {
     "name": "stdout",
     "output_type": "stream",
     "text": [
      "[2, 1]\n"
     ]
    }
   ],
   "source": [
    "from random import randint\n",
    "\n",
    "def pick():\n",
    "    return randint(0,2)\n",
    "\n",
    "print(list(iter(pick, 0)))"
   ]
  },
  {
   "cell_type": "code",
   "execution_count": 16,
   "metadata": {
    "slideshow": {
     "slide_type": "fragment"
    }
   },
   "outputs": [
    {
     "name": "stdout",
     "output_type": "stream",
     "text": [
      "[1]\n",
      "[3, 3, 3, 3, 3, 3, 3, 3]\n"
     ]
    }
   ],
   "source": [
    "def count():\n",
    "    num = 0\n",
    "    while True:\n",
    "        yield num\n",
    "        num += 1\n",
    "\n",
    "def tree(x):\n",
    "    return (x, (tree(x+1) for _ in range(2)))\n",
    "\n",
    "def search(t0):\n",
    "    (x, (t1, t2)) = t0\n",
    "    if x == 3:\n",
    "        return [x]\n",
    "    else:\n",
    "        return search(t1) + search(t2)\n",
    "\n",
    "print(search(tree(0)))"
   ]
  },
  {
   "cell_type": "markdown",
   "metadata": {
    "slideshow": {
     "slide_type": "slide"
    }
   },
   "source": [
    "## Shortest Common Superstring"
   ]
  },
  {
   "cell_type": "markdown",
   "metadata": {
    "slideshow": {
     "slide_type": "fragment"
    }
   },
   "source": [
    "**Definition:** Suppose we are given a collection of $n$ strings (repeats are permitted):\n",
    "\n",
    "$$S = [s_1, ..., s_n]$$\n",
    "\n",
    "For two strings $s$ and $r$, let $s \\preceq r$ denote that $s$ is a substring of $t$. The *shortest common superstring* of $S$ is the shortest string $t$ such that for all $s_i$ in $S$, $s_i \\preceq r$."
   ]
  },
  {
   "cell_type": "markdown",
   "metadata": {
    "slideshow": {
     "slide_type": "fragment"
    }
   },
   "source": [
    "We build some collections of randomly generated strings that we will use for our examples."
   ]
  },
  {
   "cell_type": "code",
   "execution_count": 113,
   "metadata": {
    "slideshow": {
     "slide_type": "fragment"
    }
   },
   "outputs": [
    {
     "data": {
      "text/plain": [
       "['cb', 'dcda', 'dbbab', 'dcbda']"
      ]
     },
     "execution_count": 113,
     "metadata": {},
     "output_type": "execute_result"
    }
   ],
   "source": [
    "from random import choice, randint\n",
    "\n",
    "strings100 = [\"\".join([choice('abcd') for _ in range(randint(2,4))]) for _ in range(100)]\n",
    "strings10 = [\"\".join([choice('abcd') for _ in range(randint(2,5))]) for _ in range(10)]\n",
    "strings9 = [\"\".join([choice('abcd') for _ in range(randint(2,5))]) for _ in range(9)]\n",
    "strings4 = [\"\".join([choice('abcd') for _ in range(randint(2,5))]) for _ in range(4)]\n",
    "strings4"
   ]
  },
  {
   "cell_type": "markdown",
   "metadata": {
    "slideshow": {
     "slide_type": "fragment"
    }
   },
   "source": [
    "We define two useful helper functions: a function to generate all possible ways of splitting a string and a function to merge two strings such that the overlapping portion is not duplicated (if it exists)."
   ]
  },
  {
   "cell_type": "code",
   "execution_count": 5,
   "metadata": {
    "slideshow": {
     "slide_type": "fragment"
    }
   },
   "outputs": [
    {
     "data": {
      "text/plain": [
       "([('abcdefg', ''),\n",
       "  ('abcdef', 'g'),\n",
       "  ('abcde', 'fg'),\n",
       "  ('abcd', 'efg'),\n",
       "  ('abc', 'defg'),\n",
       "  ('ab', 'cdefg'),\n",
       "  ('a', 'bcdefg'),\n",
       "  ('', 'abcdefg')],\n",
       " 'abcde')"
      ]
     },
     "execution_count": 5,
     "metadata": {},
     "output_type": "execute_result"
    }
   ],
   "source": [
    "def splits(s):\n",
    "    return list(reversed([(s[:i], s[i:]) for i in range(len(s)+1)]))\n",
    "\n",
    "def merge(s, t):\n",
    "    return min([s+tr for (tl,tr) in splits(t) if s.endswith(tl)], key=len)\n",
    "\n",
    "(splits('abcdefg'), merge('abcd', 'cde'))"
   ]
  },
  {
   "cell_type": "markdown",
   "metadata": {
    "slideshow": {
     "slide_type": "fragment"
    }
   },
   "source": [
    "### Solution Approach: Permutations"
   ]
  },
  {
   "cell_type": "markdown",
   "metadata": {
    "slideshow": {
     "slide_type": "fragment"
    }
   },
   "source": [
    "One approach to solving this problem is to generate all possible permutations of the set of strings. This leads to an extremely concise description of the solution. Unfortunately, it is not very efficient for large inputs."
   ]
  },
  {
   "cell_type": "code",
   "execution_count": 7,
   "metadata": {
    "slideshow": {
     "slide_type": "fragment"
    }
   },
   "outputs": [
    {
     "name": "stderr",
     "output_type": "stream",
     "text": [
      "100%|██████████| 362880/362880 [00:17<00:00, 20321.78it/s]\n"
     ]
    },
    {
     "data": {
      "text/plain": [
       "'aabaddabcbbcccadb'"
      ]
     },
     "execution_count": 7,
     "metadata": {},
     "output_type": "execute_result"
    }
   ],
   "source": [
    "from itertools import permutations\n",
    "from functools import reduce\n",
    "from tqdm import tqdm\n",
    "\n",
    "# The shortest solution.\n",
    "min((reduce(merge, p) for p in tqdm(set(permutations(strings9)))), key=len)"
   ]
  },
  {
   "cell_type": "markdown",
   "metadata": {
    "slideshow": {
     "slide_type": "fragment"
    }
   },
   "source": [
    "This solution also lends itself well to parallelization. In the variant below, we use multiple threads to perform the merging portion of the process. Note that we still generate all the permutations in advance using a single thread."
   ]
  },
  {
   "cell_type": "code",
   "execution_count": 114,
   "metadata": {
    "slideshow": {
     "slide_type": "fragment"
    }
   },
   "outputs": [
    {
     "name": "stdout",
     "output_type": "stream",
     "text": [
      "Finished in 15.247711539035663s using 4 process(es).\n"
     ]
    },
    {
     "data": {
      "text/plain": [
       "'baabaadbdddcaddaacbbc'"
      ]
     },
     "execution_count": 114,
     "metadata": {},
     "output_type": "execute_result"
    }
   ],
   "source": [
    "from mr4mp import mr4mp\n",
    "from timeit import default_timer\n",
    "\n",
    "def mapper(p):\n",
    "    return reduce(merge, p)\n",
    "\n",
    "def reducer(r1, r2):\n",
    "    return min([r1, r2], key=len)\n",
    "\n",
    "ps = list(set(permutations(strings9)))\n",
    "\n",
    "start = default_timer()\n",
    "\n",
    "pool = mr4mp.pool(4)\n",
    "result = pool.mapreduce(mapper, reducer, ps)\n",
    "\n",
    "print(\"Finished in \" + str(default_timer()-start) + \"s using \" + str(len(pool)) + \" process(es).\")\n",
    "result"
   ]
  },
  {
   "cell_type": "markdown",
   "metadata": {
    "slideshow": {
     "slide_type": "fragment"
    }
   },
   "source": [
    "Another advantage of this solution approach is that it is possible to sample the space of permutations uniformly at random. This can be viewed as a limited greedy state space search that is parametrized by an upper bound on the desired running time. As before, this solution lends itself well to parallelization."
   ]
  },
  {
   "cell_type": "code",
   "execution_count": 9,
   "metadata": {
    "slideshow": {
     "slide_type": "fragment"
    }
   },
   "outputs": [
    {
     "name": "stderr",
     "output_type": "stream",
     "text": [
      "100%|██████████| 3628/3628 [00:00<00:00, 35025.10it/s]\n"
     ]
    },
    {
     "data": {
      "text/plain": [
       "'aabbcccadbabaddabcbb'"
      ]
     },
     "execution_count": 9,
     "metadata": {},
     "output_type": "execute_result"
    }
   ],
   "source": [
    "import numpy as np\n",
    "import math\n",
    "\n",
    "# The number of attemps as a fraction of the\n",
    "# number of all permutations.\n",
    "attempts = int(math.factorial(len(strings9)) * 0.01)\n",
    "\n",
    "# The subset of permutations chosen at random.\n",
    "ps = set(tuple(np.random.permutation(strings9)) for _ in tqdm(range(attempts)))\n",
    "\n",
    "# The shortest solution.\n",
    "min((reduce(merge, p) for p in ps), key=len)"
   ]
  },
  {
   "cell_type": "markdown",
   "metadata": {
    "slideshow": {
     "slide_type": "fragment"
    }
   },
   "source": [
    "The above approach is more straightforward to parallelize, because now we can also parallize the step that generates permutations without dealing with the difficulty of ensuring that each thread generates a disjoint subset of the set of all permutations."
   ]
  },
  {
   "cell_type": "code",
   "execution_count": 10,
   "metadata": {
    "slideshow": {
     "slide_type": "fragment"
    }
   },
   "outputs": [
    {
     "name": "stderr",
     "output_type": "stream",
     "text": [
      "100%|██████████| 36288/36288 [00:02<00:00, 13948.57it/s]\n",
      "100%|██████████| 36288/36288 [00:02<00:00, 13880.32it/s]\n",
      "100%|██████████| 36288/36288 [00:02<00:00, 13437.75it/s]\n",
      "100%|██████████| 36288/36288 [00:02<00:00, 13550.13it/s]\n"
     ]
    },
    {
     "name": "stdout",
     "output_type": "stream",
     "text": [
      "Finished in 6.605312054976821s using 4 process(es).\n"
     ]
    },
    {
     "data": {
      "text/plain": [
       "'aabaddabcbbcccadb'"
      ]
     },
     "execution_count": 10,
     "metadata": {},
     "output_type": "execute_result"
    }
   ],
   "source": [
    "def mapper(thread_id):\n",
    "    attempts = int(math.factorial(len(strings9)) * 0.1)\n",
    "    ps = set(tuple(np.random.permutation(strings9)) for _ in tqdm(range(attempts)))\n",
    "    return min((reduce(merge, p) for p in ps), key=len)\n",
    "\n",
    "def reducer(r1, r2):\n",
    "    return min([r1, r2], key=len)\n",
    "\n",
    "start = default_timer()\n",
    "\n",
    "pool = mr4mp.pool(4)\n",
    "result = pool.mapreduce(mapper, reducer, range(4))\n",
    "\n",
    "print(\"Finished in \" + str(default_timer()-start) + \"s using \" + str(len(pool)) + \" process(es).\")\n",
    "result"
   ]
  },
  {
   "cell_type": "markdown",
   "metadata": {
    "slideshow": {
     "slide_type": "fragment"
    }
   },
   "source": [
    "### Solution Approach: Recursion"
   ]
  },
  {
   "cell_type": "markdown",
   "metadata": {
    "slideshow": {
     "slide_type": "fragment"
    }
   },
   "source": [
    "Another way that we can implement an algorithm that finds the optimal solution is using recursion."
   ]
  },
  {
   "cell_type": "code",
   "execution_count": 11,
   "metadata": {
    "slideshow": {
     "slide_type": "fragment"
    }
   },
   "outputs": [
    {
     "data": {
      "text/plain": [
       "[[[[['cdaabdcabdbad']], [['cdaabdbadcabd']]],\n",
       "  [[['cdaacabdbad']], [['cdaacabdbadbd']]],\n",
       "  [[['cdaabdbadbdcabd']], [['cdaabdbadcabd']]]],\n",
       " [[[['bdcdaacabdbad']], [['bdcdaabdbadcabd']]],\n",
       "  [[['bdcabdcdaabdbad']], [['bdcabdbadcdaa']]],\n",
       "  [[['bdbadcdaacabd']], [['bdbadcabdcdaa']]]],\n",
       " [[[['cabdcdaabdbad']], [['cabdcdaabdbadbd']]],\n",
       "  [[['cabdcdaabdbad']], [['cabdbadcdaa']]],\n",
       "  [[['cabdbadcdaabd']], [['cabdbadbdcdaa']]]],\n",
       " [[[['bdbadcdaabdcabd']], [['bdbadcdaacabd']]],\n",
       "  [[['bdbadbdcdaacabd']], [['bdbadbdcabdcdaa']]],\n",
       "  [[['bdbadcabdcdaabd']], [['bdbadcabdcdaa']]]]]"
      ]
     },
     "execution_count": 11,
     "metadata": {},
     "output_type": "execute_result"
    }
   ],
   "source": [
    "# Take out the ith entry and merge it with the input r.\n",
    "def pick(i, ss, r):\n",
    "    return (ss[:i]+ss[i+1:], merge(r, ss[i]))\n",
    "\n",
    "# Generate a nested list (essentially a tree).\n",
    "def search(ss, r = ''):\n",
    "    if ss == []:\n",
    "        return [r]\n",
    "    else:\n",
    "        options = [pick(i, ss, r) for i in range(len(ss))]\n",
    "        results = [search(*o) for o in options]\n",
    "        return results\n",
    "\n",
    "# All possible solutions in a nested tree-like data structure.\n",
    "search(strings4)"
   ]
  },
  {
   "cell_type": "code",
   "execution_count": 12,
   "metadata": {
    "slideshow": {
     "slide_type": "fragment"
    }
   },
   "outputs": [
    {
     "data": {
      "text/plain": [
       "'aabaddabcbbcccadb'"
      ]
     },
     "execution_count": 12,
     "metadata": {},
     "output_type": "execute_result"
    }
   ],
   "source": [
    "# Find the shortest entry using a tree traversal.\n",
    "def search(ss, r = ''):\n",
    "    if ss == []:\n",
    "        return r\n",
    "    else:\n",
    "        options = [pick(i, ss, r) for i in range(len(ss))]\n",
    "        results = [search(*o) for o in options]\n",
    "        return min(results, key=len)\n",
    "\n",
    "# The shortest solution.\n",
    "search(strings9)"
   ]
  },
  {
   "cell_type": "markdown",
   "metadata": {
    "slideshow": {
     "slide_type": "fragment"
    }
   },
   "source": [
    "One disadvantage of the above is that it is somewhat opaque. While the algorithm is running, there is no feedback on progress. We can address this, however, by building a *generator* using recursion (rather than returning the result). To see how this can be done, first consider how we would use the same recursive approach to build a flattened list of all possible solutions."
   ]
  },
  {
   "cell_type": "code",
   "execution_count": 13,
   "metadata": {
    "slideshow": {
     "slide_type": "fragment"
    }
   },
   "outputs": [
    {
     "data": {
      "text/plain": [
       "['cdaabdcabdbad',\n",
       " 'cdaabdbadcabd',\n",
       " 'cdaacabdbad',\n",
       " 'cdaacabdbadbd',\n",
       " 'cdaabdbadbdcabd',\n",
       " 'cdaabdbadcabd',\n",
       " 'bdcdaacabdbad',\n",
       " 'bdcdaabdbadcabd',\n",
       " 'bdcabdcdaabdbad',\n",
       " 'bdcabdbadcdaa',\n",
       " 'bdbadcdaacabd',\n",
       " 'bdbadcabdcdaa',\n",
       " 'cabdcdaabdbad',\n",
       " 'cabdcdaabdbadbd',\n",
       " 'cabdcdaabdbad',\n",
       " 'cabdbadcdaa',\n",
       " 'cabdbadcdaabd',\n",
       " 'cabdbadbdcdaa',\n",
       " 'bdbadcdaabdcabd',\n",
       " 'bdbadcdaacabd',\n",
       " 'bdbadbdcdaacabd',\n",
       " 'bdbadbdcabdcdaa',\n",
       " 'bdbadcabdcdaabd',\n",
       " 'bdbadcabdcdaa']"
      ]
     },
     "execution_count": 13,
     "metadata": {},
     "output_type": "execute_result"
    }
   ],
   "source": [
    "# Generate a flattened list.\n",
    "def search(ss, r = ''):\n",
    "    if ss == []:\n",
    "        return [r]\n",
    "    else:\n",
    "        options = [pick(i, ss, r) for i in range(len(ss))]\n",
    "        results = [r for o in options for r in search(*o)]\n",
    "        return results\n",
    "\n",
    "# All the solutions.\n",
    "search(strings4)"
   ]
  },
  {
   "cell_type": "markdown",
   "metadata": {
    "slideshow": {
     "slide_type": "fragment"
    }
   },
   "source": [
    "We can then convert the above by replacing the list comprehensions with generator comprehensions. Using this solution, it is possile to iterate over all the solutions built using the recursive tree-like traversal (and, for example, to pick the shortest one)."
   ]
  },
  {
   "cell_type": "code",
   "execution_count": 14,
   "metadata": {
    "slideshow": {
     "slide_type": "fragment"
    }
   },
   "outputs": [
    {
     "name": "stdout",
     "output_type": "stream",
     "text": [
      "cdaabdcabdbad\n",
      "cdaabdbadcabd\n",
      "cdaacabdbad\n",
      "cdaacabdbadbd\n",
      "cdaabdbadbdcabd\n",
      "cdaabdbadcabd\n",
      "bdcdaacabdbad\n",
      "bdcdaabdbadcabd\n",
      "bdcabdcdaabdbad\n",
      "bdcabdbadcdaa\n"
     ]
    },
    {
     "data": {
      "text/plain": [
       "'cabdbadcdaa'"
      ]
     },
     "execution_count": 14,
     "metadata": {},
     "output_type": "execute_result"
    }
   ],
   "source": [
    "# Build a generator.\n",
    "def search(ss, r = ''):\n",
    "    if ss == []:\n",
    "        return (r for _ in range(1))\n",
    "    else:\n",
    "        options = (pick(i, ss, r) for i in range(len(ss)))\n",
    "        results = (r for o in options for r in search(*o))\n",
    "        return results\n",
    "\n",
    "# A generator for solutions.\n",
    "rs = search(strings4)\n",
    "\n",
    "# Iterate over the first 10 entries.\n",
    "for (_, r) in zip(range(10), rs):\n",
    "    print(r)\n",
    "    \n",
    "# Find the shortest solution in the first 10 entries.\n",
    "from itertools import islice\n",
    "min(islice(rs, 10), key=len)"
   ]
  },
  {
   "cell_type": "markdown",
   "metadata": {
    "slideshow": {
     "slide_type": "fragment"
    }
   },
   "source": [
    "We can add randomization to the above solution by taking a permutation of the index list of strings at each level of the recursion."
   ]
  },
  {
   "cell_type": "code",
   "execution_count": 15,
   "metadata": {
    "slideshow": {
     "slide_type": "fragment"
    }
   },
   "outputs": [
    {
     "data": {
      "text/plain": [
       "['cabdcdaabdbad',\n",
       " 'cabdcdaabdbadbd',\n",
       " 'cabdbadbdcdaa',\n",
       " 'cabdbadcdaabd',\n",
       " 'cabdbadcdaa',\n",
       " 'cabdcdaabdbad',\n",
       " 'bdbadcdaacabd',\n",
       " 'bdbadcabdcdaa',\n",
       " 'bdcdaabdbadcabd',\n",
       " 'bdcdaacabdbad',\n",
       " 'bdcabdbadcdaa',\n",
       " 'bdcabdcdaabdbad',\n",
       " 'bdbadcdaacabd',\n",
       " 'bdbadcdaabdcabd',\n",
       " 'bdbadcabdcdaa',\n",
       " 'bdbadcabdcdaabd',\n",
       " 'bdbadbdcdaacabd',\n",
       " 'bdbadbdcabdcdaa',\n",
       " 'cdaabdbadbdcabd',\n",
       " 'cdaabdbadcabd',\n",
       " 'cdaabdcabdbad',\n",
       " 'cdaabdbadcabd',\n",
       " 'cdaacabdbad',\n",
       " 'cdaacabdbadbd']"
      ]
     },
     "execution_count": 15,
     "metadata": {},
     "output_type": "execute_result"
    }
   ],
   "source": [
    "# Build a generator.\n",
    "def search(ss, r = ''):\n",
    "    if ss == []:\n",
    "        return (r for _ in range(1))\n",
    "    else:\n",
    "        options = (pick(i, ss, r) for i in np.random.permutation(range(len(ss))))\n",
    "        results = (r for o in options for r in search(*o))\n",
    "        return results\n",
    "\n",
    "# A generator for solutions.\n",
    "list(search(strings4))"
   ]
  },
  {
   "cell_type": "markdown",
   "metadata": {
    "slideshow": {
     "slide_type": "fragment"
    }
   },
   "source": [
    "If we want to turn a generator into multiple generators, we can do so by wrapping it in generators that drop some of the values."
   ]
  },
  {
   "cell_type": "code",
   "execution_count": 16,
   "metadata": {
    "slideshow": {
     "slide_type": "fragment"
    }
   },
   "outputs": [
    {
     "name": "stdout",
     "output_type": "stream",
     "text": [
      "Finished in 1.7929296179208905s using 1 process(es).\n"
     ]
    },
    {
     "data": {
      "text/plain": [
       "4999999"
      ]
     },
     "execution_count": 16,
     "metadata": {},
     "output_type": "execute_result"
    }
   ],
   "source": [
    "g = range(10000000)\n",
    "\n",
    "def mapper(g):\n",
    "    return max([r//2 for r in g])\n",
    "\n",
    "def reducer(r1, r2):\n",
    "    return max([r1, r2])\n",
    "\n",
    "start = default_timer()\n",
    "\n",
    "pool = mr4mp.pool(1)\n",
    "result = pool.mapreduce(mapper, reducer, [g])\n",
    "\n",
    "print(\"Finished in \" + str(default_timer()-start) + \"s using \" + str(len(pool)) + \" process(es).\")\n",
    "result"
   ]
  },
  {
   "cell_type": "code",
   "execution_count": 115,
   "metadata": {
    "slideshow": {
     "slide_type": "fragment"
    }
   },
   "outputs": [
    {
     "name": "stdout",
     "output_type": "stream",
     "text": [
      "Finished in 2.7158426720416173s using 4 process(es).\n"
     ]
    },
    {
     "data": {
      "text/plain": [
       "4999999"
      ]
     },
     "execution_count": 115,
     "metadata": {},
     "output_type": "execute_result"
    }
   ],
   "source": [
    "from itertools import islice\n",
    "\n",
    "g = range(10000000)\n",
    "\n",
    "g1 = islice(g, 0, None, 4)\n",
    "g2 = islice(g, 1, None, 4)\n",
    "g3 = islice(g, 2, None, 4)\n",
    "g4 = islice(g, 3, None, 4)\n",
    "\n",
    "gs = [islice(g, start, None, 4) for start in range(0,4)]\n",
    "\n",
    "def mapper(g):\n",
    "    return max([r//2 for r in g])\n",
    "\n",
    "def reducer(r1, r2):\n",
    "    return max([r1, r2])\n",
    "\n",
    "start = default_timer()\n",
    "\n",
    "pool = mr4mp.pool(4)\n",
    "result = pool.mapreduce(mapper, reducer, gs)\n",
    "\n",
    "print(\"Finished in \" + str(default_timer()-start) + \"s using \" + str(len(pool)) + \" process(es).\")\n",
    "result"
   ]
  },
  {
   "cell_type": "markdown",
   "metadata": {
    "slideshow": {
     "slide_type": "slide"
    }
   },
   "source": [
    "### Parallelization"
   ]
  },
  {
   "cell_type": "code",
   "execution_count": 25,
   "metadata": {
    "slideshow": {
     "slide_type": "-"
    }
   },
   "outputs": [
    {
     "name": "stdout",
     "output_type": "stream",
     "text": [
      "Finished in 0.7503956459695473s using 4 process(es).\n"
     ]
    }
   ],
   "source": [
    "def word(): # Generate a random 7-letter \"word\".\n",
    "    return ''.join(choice(ascii_lowercase) for _ in range(7))\n",
    "\n",
    "def index(id): # Build an index mapping some random words to an identifier.\n",
    "    return {w:{id} for w in {word() for _ in range(100)}}\n",
    "\n",
    "def merge(i, j): # Merge two index dictionaries i and j.\n",
    "    return {k:(i.get(k,set()) | j.get(k,set())) for k in i.keys() | j.keys()}\n",
    "\n",
    "from mr4mp import mr4mp\n",
    "from random import choice\n",
    "from string import ascii_lowercase\n",
    "from timeit import default_timer\n",
    "\n",
    "start = default_timer()\n",
    "pool = mr4mp.pool(4)\n",
    "pool.mapreduce(index, merge, range(100))\n",
    "print(\"Finished in \" + str(default_timer()-start) + \"s using \" + str(len(pool)) + \" process(es).\")"
   ]
  },
  {
   "cell_type": "markdown",
   "metadata": {
    "slideshow": {
     "slide_type": "slide"
    }
   },
   "source": [
    "## Tic-tac-toe"
   ]
  },
  {
   "cell_type": "code",
   "execution_count": 73,
   "metadata": {
    "slideshow": {
     "slide_type": "-"
    }
   },
   "outputs": [
    {
     "data": {
      "text/plain": [
       "[\n",
       " X X O\n",
       " _ _ _\n",
       " _ _ _\n",
       " , \n",
       " _ X O\n",
       " X _ _\n",
       " _ _ _\n",
       " , \n",
       " _ X O\n",
       " _ X _\n",
       " _ _ _\n",
       " , \n",
       " _ X O\n",
       " _ _ X\n",
       " _ _ _\n",
       " , \n",
       " _ X O\n",
       " _ _ _\n",
       " X _ _\n",
       " , \n",
       " _ X O\n",
       " _ _ _\n",
       " _ X _\n",
       " , \n",
       " _ X O\n",
       " _ _ _\n",
       " _ _ X\n",
       " ]"
      ]
     },
     "execution_count": 73,
     "metadata": {},
     "output_type": "execute_result"
    }
   ],
   "source": [
    "from parts import parts\n",
    "from itertools import count\n",
    "\n",
    "class Board():\n",
    "    def __init__(self, cells = ['_']*9):\n",
    "        self.cells = cells\n",
    "    \n",
    "    def __repr__(self):\n",
    "        return \"\\n\"+\"\\n\".join(tuple(\" \".join(row) for row in parts(self.cells,3)))+\"\\n\\n\"\n",
    "\n",
    "    def move(self, p, j):\n",
    "        return Board([p if k==j else c for (c,k) in zip(self.cells, count())])\n",
    "\n",
    "    def moves(self, p):\n",
    "        return [self.move(p,k) for (c,k) in zip(self.cells, count()) if c == '_']\n",
    "\n",
    "    def win(self, p):\n",
    "        rs = list(map(tuple, parts(self.cells, 3)))\n",
    "        return (p,p,p) in rs or\\\n",
    "               (p,p,p) in map(tuple, zip(*rs)) or\\\n",
    "               (p,p,p) in [(rs[0][0], rs[1][1], rs[2][2]), rs[0][2], rs[1][1], rs[2][0]]\n",
    "\n",
    "    def end(self):\n",
    "        return any([self.win('X'), self.win('O')])\n",
    "\n",
    "    def __len__(self):\n",
    "        return self.cells.count('_')\n",
    "    \n",
    "    def __eq__(self, other):\n",
    "        return tuple(self.cells) == tuple(other.cells)\n",
    "    \n",
    "b = Board()\n",
    "b = b.move('X', 1).move('O', 2)\n",
    "b.moves('X')"
   ]
  },
  {
   "cell_type": "code",
   "execution_count": 85,
   "metadata": {
    "slideshow": {
     "slide_type": "-"
    }
   },
   "outputs": [],
   "source": [
    "from itertools import islice\n",
    "\n",
    "b = Board()\n",
    "\n",
    "def search(b, p = 'X'):\n",
    "    if b.end():\n",
    "        return [b]\n",
    "    else:\n",
    "        return [b for m in b.moves(p) for b in search(m, 'O' if p=='X' else 'X')]\n",
    "\n",
    "search(b)"
   ]
  },
  {
   "cell_type": "code",
   "execution_count": 93,
   "metadata": {
    "slideshow": {
     "slide_type": "-"
    }
   },
   "outputs": [
    {
     "data": {
      "text/plain": [
       "182988"
      ]
     },
     "execution_count": 93,
     "metadata": {},
     "output_type": "execute_result"
    }
   ],
   "source": [
    "b = Board()\n",
    "\n",
    "def gen(b, p = 'X'):\n",
    "    if b.end():\n",
    "        return (b for _ in range(1))\n",
    "    else:\n",
    "        return (b for m in b.moves(p) for b in gen(m, 'O' if p=='X' else 'X'))\n",
    "\n",
    "len(list(gen(b)))"
   ]
  },
  {
   "cell_type": "code",
   "execution_count": 96,
   "metadata": {
    "slideshow": {
     "slide_type": "-"
    }
   },
   "outputs": [
    {
     "name": "stdout",
     "output_type": "stream",
     "text": [
      "X\n",
      "O\n",
      "X\n"
     ]
    }
   ],
   "source": [
    "from itertools import islice\n",
    "\n",
    "turns = (p for _ in count() for p in ['X', 'O'])\n",
    "print(next(turns))\n",
    "print(next(turns))\n",
    "print(next(turns))"
   ]
  },
  {
   "cell_type": "code",
   "execution_count": 111,
   "metadata": {
    "slideshow": {
     "slide_type": "-"
    }
   },
   "outputs": [
    {
     "name": "stdout",
     "output_type": "stream",
     "text": [
      "['X', 'O', 'X', 'O']\n"
     ]
    },
    {
     "data": {
      "text/plain": [
       "[\n",
       " X O _\n",
       " _ _ _\n",
       " _ _ _\n",
       " , \n",
       " X _ O\n",
       " _ _ _\n",
       " _ _ _\n",
       " , \n",
       " X _ _\n",
       " O _ _\n",
       " _ _ _\n",
       " , \n",
       " X _ _\n",
       " _ O _\n",
       " _ _ _\n",
       " , \n",
       " X _ _\n",
       " _ _ O\n",
       " _ _ _\n",
       " , \n",
       " X _ _\n",
       " _ _ _\n",
       " O _ _\n",
       " , \n",
       " X _ _\n",
       " _ _ _\n",
       " _ O _\n",
       " , \n",
       " X _ _\n",
       " _ _ _\n",
       " _ _ O\n",
       " , \n",
       " O X _\n",
       " _ _ _\n",
       " _ _ _\n",
       " , \n",
       " _ X O\n",
       " _ _ _\n",
       " _ _ _\n",
       " , \n",
       " _ X _\n",
       " O _ _\n",
       " _ _ _\n",
       " , \n",
       " _ X _\n",
       " _ O _\n",
       " _ _ _\n",
       " , \n",
       " _ X _\n",
       " _ _ O\n",
       " _ _ _\n",
       " , \n",
       " _ X _\n",
       " _ _ _\n",
       " O _ _\n",
       " , \n",
       " _ X _\n",
       " _ _ _\n",
       " _ O _\n",
       " , \n",
       " _ X _\n",
       " _ _ _\n",
       " _ _ O\n",
       " , \n",
       " O _ X\n",
       " _ _ _\n",
       " _ _ _\n",
       " , \n",
       " _ O X\n",
       " _ _ _\n",
       " _ _ _\n",
       " , \n",
       " _ _ X\n",
       " O _ _\n",
       " _ _ _\n",
       " , \n",
       " _ _ X\n",
       " _ O _\n",
       " _ _ _\n",
       " , \n",
       " _ _ X\n",
       " _ _ O\n",
       " _ _ _\n",
       " , \n",
       " _ _ X\n",
       " _ _ _\n",
       " O _ _\n",
       " , \n",
       " _ _ X\n",
       " _ _ _\n",
       " _ O _\n",
       " , \n",
       " _ _ X\n",
       " _ _ _\n",
       " _ _ O\n",
       " , \n",
       " O _ _\n",
       " X _ _\n",
       " _ _ _\n",
       " , \n",
       " _ O _\n",
       " X _ _\n",
       " _ _ _\n",
       " , \n",
       " _ _ O\n",
       " X _ _\n",
       " _ _ _\n",
       " , \n",
       " _ _ _\n",
       " X O _\n",
       " _ _ _\n",
       " , \n",
       " _ _ _\n",
       " X _ O\n",
       " _ _ _\n",
       " , \n",
       " _ _ _\n",
       " X _ _\n",
       " O _ _\n",
       " , \n",
       " _ _ _\n",
       " X _ _\n",
       " _ O _\n",
       " , \n",
       " _ _ _\n",
       " X _ _\n",
       " _ _ O\n",
       " , \n",
       " O _ _\n",
       " _ X _\n",
       " _ _ _\n",
       " , \n",
       " _ O _\n",
       " _ X _\n",
       " _ _ _\n",
       " , \n",
       " _ _ O\n",
       " _ X _\n",
       " _ _ _\n",
       " , \n",
       " _ _ _\n",
       " O X _\n",
       " _ _ _\n",
       " , \n",
       " _ _ _\n",
       " _ X O\n",
       " _ _ _\n",
       " , \n",
       " _ _ _\n",
       " _ X _\n",
       " O _ _\n",
       " , \n",
       " _ _ _\n",
       " _ X _\n",
       " _ O _\n",
       " , \n",
       " _ _ _\n",
       " _ X _\n",
       " _ _ O\n",
       " , \n",
       " O _ _\n",
       " _ _ X\n",
       " _ _ _\n",
       " , \n",
       " _ O _\n",
       " _ _ X\n",
       " _ _ _\n",
       " , \n",
       " _ _ O\n",
       " _ _ X\n",
       " _ _ _\n",
       " , \n",
       " _ _ _\n",
       " O _ X\n",
       " _ _ _\n",
       " , \n",
       " _ _ _\n",
       " _ O X\n",
       " _ _ _\n",
       " , \n",
       " _ _ _\n",
       " _ _ X\n",
       " O _ _\n",
       " , \n",
       " _ _ _\n",
       " _ _ X\n",
       " _ O _\n",
       " , \n",
       " _ _ _\n",
       " _ _ X\n",
       " _ _ O\n",
       " , \n",
       " O _ _\n",
       " _ _ _\n",
       " X _ _\n",
       " , \n",
       " _ O _\n",
       " _ _ _\n",
       " X _ _\n",
       " , \n",
       " _ _ O\n",
       " _ _ _\n",
       " X _ _\n",
       " , \n",
       " _ _ _\n",
       " O _ _\n",
       " X _ _\n",
       " , \n",
       " _ _ _\n",
       " _ O _\n",
       " X _ _\n",
       " , \n",
       " _ _ _\n",
       " _ _ O\n",
       " X _ _\n",
       " , \n",
       " _ _ _\n",
       " _ _ _\n",
       " X O _\n",
       " , \n",
       " _ _ _\n",
       " _ _ _\n",
       " X _ O\n",
       " , \n",
       " O _ _\n",
       " _ _ _\n",
       " _ X _\n",
       " , \n",
       " _ O _\n",
       " _ _ _\n",
       " _ X _\n",
       " , \n",
       " _ _ O\n",
       " _ _ _\n",
       " _ X _\n",
       " , \n",
       " _ _ _\n",
       " O _ _\n",
       " _ X _\n",
       " , \n",
       " _ _ _\n",
       " _ O _\n",
       " _ X _\n",
       " , \n",
       " _ _ _\n",
       " _ _ O\n",
       " _ X _\n",
       " , \n",
       " _ _ _\n",
       " _ _ _\n",
       " O X _\n",
       " , \n",
       " _ _ _\n",
       " _ _ _\n",
       " _ X O\n",
       " , \n",
       " O _ _\n",
       " _ _ _\n",
       " _ _ X\n",
       " , \n",
       " _ O _\n",
       " _ _ _\n",
       " _ _ X\n",
       " , \n",
       " _ _ O\n",
       " _ _ _\n",
       " _ _ X\n",
       " , \n",
       " _ _ _\n",
       " O _ _\n",
       " _ _ X\n",
       " , \n",
       " _ _ _\n",
       " _ O _\n",
       " _ _ X\n",
       " , \n",
       " _ _ _\n",
       " _ _ O\n",
       " _ _ X\n",
       " , \n",
       " _ _ _\n",
       " _ _ _\n",
       " O _ X\n",
       " , \n",
       " _ _ _\n",
       " _ _ _\n",
       " _ O X\n",
       " ]"
      ]
     },
     "execution_count": 111,
     "metadata": {},
     "output_type": "execute_result"
    }
   ],
   "source": [
    "from itertools import islice\n",
    "\n",
    "turns = (p for _ in count() for p in ['X', 'O'])\n",
    "print(list(islice(turns, 4)))\n",
    "\n",
    "turn_gs = ((p for _ in count() for p in ['X', 'O']) for _ in count())\n",
    "\n",
    "b = Board()\n",
    "\n",
    "def gen(b, turn_gs):\n",
    "    ts = next(turn_gs)\n",
    "    p = next(ts)\n",
    "    turn_gs = (islice(ts, 1, None) for ts in turn_gs)\n",
    "    if len(b.moves(p)) == 7:\n",
    "        return [b]\n",
    "    else:\n",
    "        ms = b.moves(p)\n",
    "        return (mb for m in ms for mb in gen(m, turn_gs))\n",
    "\n",
    "list(gen(b, turn_gs))"
   ]
  },
  {
   "cell_type": "markdown",
   "metadata": {
    "slideshow": {
     "slide_type": "fragment"
    }
   },
   "source": [
    "This is the end of the article."
   ]
  }
 ],
 "metadata": {
  "anaconda-cloud": {},
  "celltoolbar": "Slideshow",
  "kernelspec": {
   "display_name": "Python 3",
   "language": "python",
   "name": "python3"
  },
  "language_info": {
   "codemirror_mode": {
    "name": "ipython",
    "version": 3
   },
   "file_extension": ".py",
   "mimetype": "text/x-python",
   "name": "python",
   "nbconvert_exporter": "python",
   "pygments_lexer": "ipython3",
   "version": "3.6.4"
  },
  "livereveal": {
   "scroll": true
  }
 },
 "nbformat": 4,
 "nbformat_minor": 1
}
